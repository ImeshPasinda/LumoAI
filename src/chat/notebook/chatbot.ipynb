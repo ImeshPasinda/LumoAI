{
  "cells": [
    {
      "cell_type": "markdown",
      "metadata": {
        "id": "SOqjz3JnV8ls"
      },
      "source": [
        "# Install required packages"
      ]
    },
    {
      "cell_type": "code",
      "execution_count": 7,
      "metadata": {
        "colab": {
          "base_uri": "https://localhost:8080/"
        },
        "id": "g3c6UKygV6Yt",
        "outputId": "2ca208f3-b0b8-4464-e0b4-84a3e674ebf1"
      },
      "outputs": [
        {
          "name": "stdout",
          "output_type": "stream",
          "text": [
            "Requirement already satisfied: langchain-community in c:\\users\\asus\\anaconda3\\envs\\pythonenv\\lib\\site-packages (0.2.19)\n",
            "Requirement already satisfied: langchain-openai in c:\\users\\asus\\anaconda3\\envs\\pythonenv\\lib\\site-packages (0.1.25)\n",
            "Requirement already satisfied: faiss-cpu in c:\\users\\asus\\anaconda3\\envs\\pythonenv\\lib\\site-packages (1.8.0.post1)\n",
            "Requirement already satisfied: pypdf in c:\\users\\asus\\anaconda3\\envs\\pythonenv\\lib\\site-packages (5.4.0)\n",
            "Requirement already satisfied: PyYAML>=5.3 in c:\\users\\asus\\anaconda3\\envs\\pythonenv\\lib\\site-packages (from langchain-community) (6.0.2)\n",
            "Requirement already satisfied: SQLAlchemy<3,>=1.4 in c:\\users\\asus\\anaconda3\\envs\\pythonenv\\lib\\site-packages (from langchain-community) (2.0.40)\n",
            "Requirement already satisfied: aiohttp<4.0.0,>=3.8.3 in c:\\users\\asus\\anaconda3\\envs\\pythonenv\\lib\\site-packages (from langchain-community) (3.10.11)\n",
            "Requirement already satisfied: dataclasses-json<0.7,>=0.5.7 in c:\\users\\asus\\anaconda3\\envs\\pythonenv\\lib\\site-packages (from langchain-community) (0.6.7)\n",
            "Requirement already satisfied: langchain<0.3.0,>=0.2.17 in c:\\users\\asus\\anaconda3\\envs\\pythonenv\\lib\\site-packages (from langchain-community) (0.2.17)\n",
            "Requirement already satisfied: langchain-core<0.3.0,>=0.2.43 in c:\\users\\asus\\anaconda3\\envs\\pythonenv\\lib\\site-packages (from langchain-community) (0.2.43)\n",
            "Requirement already satisfied: langsmith<0.2.0,>=0.1.112 in c:\\users\\asus\\anaconda3\\envs\\pythonenv\\lib\\site-packages (from langchain-community) (0.1.147)\n",
            "Requirement already satisfied: numpy<2,>=1 in c:\\users\\asus\\anaconda3\\envs\\pythonenv\\lib\\site-packages (from langchain-community) (1.24.3)\n",
            "Requirement already satisfied: requests<3,>=2 in c:\\users\\asus\\anaconda3\\envs\\pythonenv\\lib\\site-packages (from langchain-community) (2.32.3)\n",
            "Requirement already satisfied: tenacity!=8.4.0,<9.0.0,>=8.1.0 in c:\\users\\asus\\anaconda3\\envs\\pythonenv\\lib\\site-packages (from langchain-community) (8.5.0)\n",
            "Requirement already satisfied: openai<2.0.0,>=1.40.0 in c:\\users\\asus\\anaconda3\\envs\\pythonenv\\lib\\site-packages (from langchain-openai) (1.66.3)\n",
            "Requirement already satisfied: tiktoken<1,>=0.7 in c:\\users\\asus\\anaconda3\\envs\\pythonenv\\lib\\site-packages (from langchain-openai) (0.7.0)\n",
            "Requirement already satisfied: packaging in c:\\users\\asus\\anaconda3\\envs\\pythonenv\\lib\\site-packages (from faiss-cpu) (24.2)\n",
            "Requirement already satisfied: typing_extensions>=4.0 in c:\\users\\asus\\anaconda3\\envs\\pythonenv\\lib\\site-packages (from pypdf) (4.12.2)\n",
            "Requirement already satisfied: aiohappyeyeballs>=2.3.0 in c:\\users\\asus\\anaconda3\\envs\\pythonenv\\lib\\site-packages (from aiohttp<4.0.0,>=3.8.3->langchain-community) (2.4.4)\n",
            "Requirement already satisfied: aiosignal>=1.1.2 in c:\\users\\asus\\anaconda3\\envs\\pythonenv\\lib\\site-packages (from aiohttp<4.0.0,>=3.8.3->langchain-community) (1.3.1)\n",
            "Requirement already satisfied: attrs>=17.3.0 in c:\\users\\asus\\anaconda3\\envs\\pythonenv\\lib\\site-packages (from aiohttp<4.0.0,>=3.8.3->langchain-community) (25.3.0)\n",
            "Requirement already satisfied: frozenlist>=1.1.1 in c:\\users\\asus\\anaconda3\\envs\\pythonenv\\lib\\site-packages (from aiohttp<4.0.0,>=3.8.3->langchain-community) (1.5.0)\n",
            "Requirement already satisfied: multidict<7.0,>=4.5 in c:\\users\\asus\\anaconda3\\envs\\pythonenv\\lib\\site-packages (from aiohttp<4.0.0,>=3.8.3->langchain-community) (6.1.0)\n",
            "Requirement already satisfied: yarl<2.0,>=1.12.0 in c:\\users\\asus\\anaconda3\\envs\\pythonenv\\lib\\site-packages (from aiohttp<4.0.0,>=3.8.3->langchain-community) (1.15.2)\n",
            "Requirement already satisfied: async-timeout<6.0,>=4.0 in c:\\users\\asus\\anaconda3\\envs\\pythonenv\\lib\\site-packages (from aiohttp<4.0.0,>=3.8.3->langchain-community) (4.0.3)\n",
            "Requirement already satisfied: marshmallow<4.0.0,>=3.18.0 in c:\\users\\asus\\anaconda3\\envs\\pythonenv\\lib\\site-packages (from dataclasses-json<0.7,>=0.5.7->langchain-community) (3.22.0)\n",
            "Requirement already satisfied: typing-inspect<1,>=0.4.0 in c:\\users\\asus\\anaconda3\\envs\\pythonenv\\lib\\site-packages (from dataclasses-json<0.7,>=0.5.7->langchain-community) (0.9.0)\n",
            "Requirement already satisfied: langchain-text-splitters<0.3.0,>=0.2.0 in c:\\users\\asus\\anaconda3\\envs\\pythonenv\\lib\\site-packages (from langchain<0.3.0,>=0.2.17->langchain-community) (0.2.4)\n",
            "Requirement already satisfied: pydantic<3,>=1 in c:\\users\\asus\\anaconda3\\envs\\pythonenv\\lib\\site-packages (from langchain<0.3.0,>=0.2.17->langchain-community) (2.10.6)\n",
            "Requirement already satisfied: jsonpatch<2.0,>=1.33 in c:\\users\\asus\\anaconda3\\envs\\pythonenv\\lib\\site-packages (from langchain-core<0.3.0,>=0.2.43->langchain-community) (1.33)\n",
            "Requirement already satisfied: httpx<1,>=0.23.0 in c:\\users\\asus\\anaconda3\\envs\\pythonenv\\lib\\site-packages (from langsmith<0.2.0,>=0.1.112->langchain-community) (0.28.1)\n",
            "Requirement already satisfied: orjson<4.0.0,>=3.9.14 in c:\\users\\asus\\anaconda3\\envs\\pythonenv\\lib\\site-packages (from langsmith<0.2.0,>=0.1.112->langchain-community) (3.10.15)\n",
            "Requirement already satisfied: requests-toolbelt<2.0.0,>=1.0.0 in c:\\users\\asus\\anaconda3\\envs\\pythonenv\\lib\\site-packages (from langsmith<0.2.0,>=0.1.112->langchain-community) (1.0.0)\n",
            "Requirement already satisfied: anyio<5,>=3.5.0 in c:\\users\\asus\\anaconda3\\envs\\pythonenv\\lib\\site-packages (from openai<2.0.0,>=1.40.0->langchain-openai) (4.5.2)\n",
            "Requirement already satisfied: distro<2,>=1.7.0 in c:\\users\\asus\\anaconda3\\envs\\pythonenv\\lib\\site-packages (from openai<2.0.0,>=1.40.0->langchain-openai) (1.9.0)\n",
            "Requirement already satisfied: jiter<1,>=0.4.0 in c:\\users\\asus\\anaconda3\\envs\\pythonenv\\lib\\site-packages (from openai<2.0.0,>=1.40.0->langchain-openai) (0.8.2)\n",
            "Requirement already satisfied: sniffio in c:\\users\\asus\\anaconda3\\envs\\pythonenv\\lib\\site-packages (from openai<2.0.0,>=1.40.0->langchain-openai) (1.3.1)\n",
            "Requirement already satisfied: tqdm>4 in c:\\users\\asus\\anaconda3\\envs\\pythonenv\\lib\\site-packages (from openai<2.0.0,>=1.40.0->langchain-openai) (4.67.0)\n",
            "Requirement already satisfied: charset-normalizer<4,>=2 in c:\\users\\asus\\anaconda3\\envs\\pythonenv\\lib\\site-packages (from requests<3,>=2->langchain-community) (3.4.0)\n",
            "Requirement already satisfied: idna<4,>=2.5 in c:\\users\\asus\\anaconda3\\envs\\pythonenv\\lib\\site-packages (from requests<3,>=2->langchain-community) (3.10)\n",
            "Requirement already satisfied: urllib3<3,>=1.21.1 in c:\\users\\asus\\anaconda3\\envs\\pythonenv\\lib\\site-packages (from requests<3,>=2->langchain-community) (2.2.3)\n",
            "Requirement already satisfied: certifi>=2017.4.17 in c:\\users\\asus\\anaconda3\\envs\\pythonenv\\lib\\site-packages (from requests<3,>=2->langchain-community) (2024.8.30)\n",
            "Requirement already satisfied: greenlet>=1 in c:\\users\\asus\\anaconda3\\envs\\pythonenv\\lib\\site-packages (from SQLAlchemy<3,>=1.4->langchain-community) (3.1.1)\n",
            "Requirement already satisfied: regex>=2022.1.18 in c:\\users\\asus\\anaconda3\\envs\\pythonenv\\lib\\site-packages (from tiktoken<1,>=0.7->langchain-openai) (2024.11.6)\n",
            "Requirement already satisfied: exceptiongroup>=1.0.2 in c:\\users\\asus\\anaconda3\\envs\\pythonenv\\lib\\site-packages (from anyio<5,>=3.5.0->openai<2.0.0,>=1.40.0->langchain-openai) (1.2.2)\n",
            "Requirement already satisfied: httpcore==1.* in c:\\users\\asus\\anaconda3\\envs\\pythonenv\\lib\\site-packages (from httpx<1,>=0.23.0->langsmith<0.2.0,>=0.1.112->langchain-community) (1.0.7)\n",
            "Requirement already satisfied: h11<0.15,>=0.13 in c:\\users\\asus\\anaconda3\\envs\\pythonenv\\lib\\site-packages (from httpcore==1.*->httpx<1,>=0.23.0->langsmith<0.2.0,>=0.1.112->langchain-community) (0.14.0)\n",
            "Requirement already satisfied: jsonpointer>=1.9 in c:\\users\\asus\\anaconda3\\envs\\pythonenv\\lib\\site-packages (from jsonpatch<2.0,>=1.33->langchain-core<0.3.0,>=0.2.43->langchain-community) (3.0.0)\n",
            "Requirement already satisfied: annotated-types>=0.6.0 in c:\\users\\asus\\anaconda3\\envs\\pythonenv\\lib\\site-packages (from pydantic<3,>=1->langchain<0.3.0,>=0.2.17->langchain-community) (0.7.0)\n",
            "Requirement already satisfied: pydantic-core==2.27.2 in c:\\users\\asus\\anaconda3\\envs\\pythonenv\\lib\\site-packages (from pydantic<3,>=1->langchain<0.3.0,>=0.2.17->langchain-community) (2.27.2)\n",
            "Requirement already satisfied: colorama in c:\\users\\asus\\anaconda3\\envs\\pythonenv\\lib\\site-packages (from tqdm>4->openai<2.0.0,>=1.40.0->langchain-openai) (0.4.6)\n",
            "Requirement already satisfied: mypy-extensions>=0.3.0 in c:\\users\\asus\\anaconda3\\envs\\pythonenv\\lib\\site-packages (from typing-inspect<1,>=0.4.0->dataclasses-json<0.7,>=0.5.7->langchain-community) (1.1.0)\n",
            "Requirement already satisfied: propcache>=0.2.0 in c:\\users\\asus\\anaconda3\\envs\\pythonenv\\lib\\site-packages (from yarl<2.0,>=1.12.0->aiohttp<4.0.0,>=3.8.3->langchain-community) (0.2.0)\n"
          ]
        },
        {
          "name": "stderr",
          "output_type": "stream",
          "text": [
            "\n",
            "[notice] A new release of pip is available: 24.3.1 -> 25.0.1\n",
            "[notice] To update, run: python.exe -m pip install --upgrade pip\n"
          ]
        }
      ],
      "source": [
        "!pip install langchain-community langchain-openai faiss-cpu pypdf"
      ]
    },
    {
      "cell_type": "markdown",
      "metadata": {
        "id": "uOBjm0RsU0sy"
      },
      "source": [
        "# Import all required libraries"
      ]
    },
    {
      "cell_type": "code",
      "execution_count": 1,
      "metadata": {
        "id": "SAQpao-XxwfD"
      },
      "outputs": [],
      "source": [
        "from langchain_community.document_loaders import PyPDFLoader\n",
        "from langchain_community.vectorstores import FAISS\n",
        "from langchain_openai import OpenAIEmbeddings, ChatOpenAI\n",
        "from langchain.text_splitter import RecursiveCharacterTextSplitter\n",
        "from langchain.chains import RetrievalQA"
      ]
    },
    {
      "cell_type": "markdown",
      "metadata": {
        "id": "4fNyr559U33n"
      },
      "source": [
        "# Configuration settings"
      ]
    },
    {
      "cell_type": "code",
      "execution_count": null,
      "metadata": {
        "id": "Pkdn8SJmU6la"
      },
      "outputs": [],
      "source": [
        "OPENAI_API_KEY = \"your_openai_api_key_here\"\n",
        "pdf_path = \"../data/CTSE_ALL.pdf\""
      ]
    },
    {
      "cell_type": "markdown",
      "metadata": {
        "id": "Ixa8OZ3xVRDC"
      },
      "source": [
        "# Load and split PDF\n"
      ]
    },
    {
      "cell_type": "code",
      "execution_count": 12,
      "metadata": {
        "id": "WBAhBdutVAWC"
      },
      "outputs": [
        {
          "name": "stdout",
          "output_type": "stream",
          "text": [
            "Loaded 408 documents.\n",
            "\n",
            "First 500 chars of first document:\n",
            "Intro to DevOps and Beyond\n",
            "Ravindu Nirmal Fernando\n"
          ]
        }
      ],
      "source": [
        "loader = PyPDFLoader(pdf_path)\n",
        "documents = loader.load()\n",
        "\n",
        "print(f\"Loaded {len(documents)} documents.\")\n",
        "if len(documents) > 0:\n",
        "    print(f\"\\nFirst 500 chars of first document:\\n{documents[0].page_content[:500]}\")"
      ]
    },
    {
      "cell_type": "markdown",
      "metadata": {
        "id": "UGYt3XRkVTVg"
      },
      "source": [
        "# Text splitting\n"
      ]
    },
    {
      "cell_type": "code",
      "execution_count": 13,
      "metadata": {
        "colab": {
          "base_uri": "https://localhost:8080/"
        },
        "id": "7MYtSm2mVC7q",
        "outputId": "a5d0488e-a8e4-4f79-dcc2-36db3f73a30d"
      },
      "outputs": [
        {
          "name": "stdout",
          "output_type": "stream",
          "text": [
            "\n",
            "Number of chunks after splitting: 383\n",
            "Sample chunk (first 200 chars): Intro to DevOps and Beyond\n",
            "Ravindu Nirmal Fernando\n"
          ]
        }
      ],
      "source": [
        "text_splitter = RecursiveCharacterTextSplitter(chunk_size=1000, chunk_overlap=200)\n",
        "texts = text_splitter.split_documents(documents)\n",
        "\n",
        "print(f\"\\nNumber of chunks after splitting: {len(texts)}\")\n",
        "print(f\"Sample chunk (first 200 chars): {texts[0].page_content[:200]}\")"
      ]
    },
    {
      "cell_type": "markdown",
      "metadata": {
        "id": "hzEaRQsUVZoS"
      },
      "source": [
        "# Create embeddings and vector store\n"
      ]
    },
    {
      "cell_type": "code",
      "execution_count": 14,
      "metadata": {
        "colab": {
          "base_uri": "https://localhost:8080/"
        },
        "id": "Fw4j64FWVESf",
        "outputId": "b25ec971-1cc5-44e6-bb24-ff977c50e3c5"
      },
      "outputs": [
        {
          "name": "stdout",
          "output_type": "stream",
          "text": [
            "\n",
            "Number of documents in FAISS vector store: 383\n"
          ]
        }
      ],
      "source": [
        "embeddings = OpenAIEmbeddings(openai_api_key=OPENAI_API_KEY)\n",
        "db = FAISS.from_documents(texts, embeddings)\n",
        "\n",
        "print(f\"\\nNumber of documents in FAISS vector store: {db.index.ntotal}\")"
      ]
    },
    {
      "cell_type": "markdown",
      "metadata": {
        "id": "ymPx5I9gVbPL"
      },
      "source": [
        "# Initialize QA system\n"
      ]
    },
    {
      "cell_type": "code",
      "execution_count": 15,
      "metadata": {
        "colab": {
          "base_uri": "https://localhost:8080/"
        },
        "id": "-hIMFeYGVFxC",
        "outputId": "bb6ffecc-70e4-4f1b-9d1e-cca1e1a633c7"
      },
      "outputs": [
        {
          "name": "stdout",
          "output_type": "stream",
          "text": [
            "QA system initialized successfully!\n"
          ]
        }
      ],
      "source": [
        "llm = ChatOpenAI(model_name=\"gpt-3.5-turbo\", openai_api_key=OPENAI_API_KEY)\n",
        "qa = RetrievalQA.from_chain_type(llm=llm, chain_type=\"stuff\", retriever=db.as_retriever())\n",
        "\n",
        "print(\"QA system initialized successfully!\")"
      ]
    },
    {
      "cell_type": "markdown",
      "metadata": {
        "id": "kzRLS3ZBVcpy"
      },
      "source": [
        "# Define question answering function\n"
      ]
    },
    {
      "cell_type": "code",
      "execution_count": 16,
      "metadata": {
        "id": "Vs0d3LvqVHU0"
      },
      "outputs": [],
      "source": [
        "def ask_question(question):\n",
        "    if not question:\n",
        "        return \"Error: No question provided\"\n",
        "\n",
        "    print(f\"\\nProcessing question: {question}\")\n",
        "\n",
        "    try:\n",
        "        result = qa.invoke({\"query\": question})\n",
        "        return result['result']\n",
        "    except Exception as e:\n",
        "        print(f\"Error occurred: {str(e)}\")\n",
        "        return f\"Error: {str(e)}\""
      ]
    },
    {
      "cell_type": "markdown",
      "metadata": {
        "id": "w-jbB6cKVd6L"
      },
      "source": [
        "# Example usage\n"
      ]
    },
    {
      "cell_type": "code",
      "execution_count": null,
      "metadata": {
        "id": "Foq9o6_-VIwb"
      },
      "outputs": [
        {
          "name": "stdout",
          "output_type": "stream",
          "text": [
            "\n",
            "Processing question: What are the topics of this document?\n",
            "\n",
            "Question: What are the topics of this document?\n",
            "Answer: The topics covered in this document include an Introduction to AWS cloud platform and its benefits, AWS Global Infrastructure, Accessing AWS Services, Interacting with AWS Services, Best Practices for managing AWS Accounts, Common AWS services, Demo, Brief History of infrastructure shifts over the decades, VMs vs Containers, What are containers and what problem does it solve, What is Docker, Deep dive into Docker Internals, and a Demo.\n"
          ]
        }
      ],
      "source": [
        "sample_question = \"What is the main topic of this document?\"\n",
        "answer = ask_question(sample_question)\n",
        "print(\"\\nQuestion:\", sample_question)\n",
        "print(\"Answer:\", answer)"
      ]
    }
  ],
  "metadata": {
    "colab": {
      "provenance": []
    },
    "kernelspec": {
      "display_name": "pythonenv",
      "language": "python",
      "name": "python3"
    },
    "language_info": {
      "codemirror_mode": {
        "name": "ipython",
        "version": 3
      },
      "file_extension": ".py",
      "mimetype": "text/x-python",
      "name": "python",
      "nbconvert_exporter": "python",
      "pygments_lexer": "ipython3",
      "version": "3.8.20"
    }
  },
  "nbformat": 4,
  "nbformat_minor": 0
}
